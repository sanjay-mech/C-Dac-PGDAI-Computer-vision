{
 "cells": [
  {
   "cell_type": "code",
   "execution_count": null,
   "metadata": {
    "id": "UmOGc91lkyvg"
   },
   "outputs": [],
   "source": [
    "import tensorflow as tf\n",
    "from keras.models import Sequential\n",
    "from keras.layers import Conv2D, MaxPooling2D, Flatten, Dense, Dropout\n",
    "from keras.datasets import cifar10"
   ]
  },
  {
   "cell_type": "code",
   "execution_count": null,
   "metadata": {
    "id": "uGXdf_eBk39D"
   },
   "outputs": [],
   "source": [
    "def residual_block(filters):\n",
    "  \"\"\"Defines a residual block.\"\"\"\n",
    "  model = Sequential()\n",
    "  model.add(Conv2D(filters, (3, 3), padding='same', activation='relu'))\n",
    "  model.add(Conv2D(filters, (3, 3), padding='same', activation='relu'))\n",
    "  return model"
   ]
  },
  {
   "cell_type": "code",
   "execution_count": null,
   "metadata": {
    "id": "8iJ4NVsdlNDg"
   },
   "outputs": [],
   "source": [
    "def build_resnet(depth):\n",
    "  \"\"\"Defines a ResNet model with the specified depth.\"\"\"\n",
    "  model = Sequential()\n",
    "  model.add(Conv2D(64, (7, 7), padding='same', activation='relu',\n",
    "                   input_shape=(32, 32, 3)))\n",
    "  model.add(MaxPooling2D((3, 3), strides=(2, 2)))\n",
    "\n",
    "  for i in range(depth - 2):\n",
    "    model.add(residual_block(64))\n",
    "\n",
    "  model.add(Conv2D(10, (1, 1), padding='same', activation='relu'))\n",
    "  model.add(Flatten())\n",
    "  model.add(Dense(10, activation='softmax'))\n",
    "\n",
    "  return model"
   ]
  },
  {
   "cell_type": "code",
   "execution_count": null,
   "metadata": {
    "id": "r2X-Yaqml3r_"
   },
   "outputs": [],
   "source": [
    "model = build_resnet(30)"
   ]
  },
  {
   "cell_type": "code",
   "execution_count": null,
   "metadata": {
    "colab": {
     "base_uri": "https://localhost:8080/"
    },
    "id": "H671iE4In1Qv",
    "outputId": "f6b6cc9d-da2e-4c42-82b9-54598cf91e7a"
   },
   "outputs": [
    {
     "name": "stdout",
     "output_type": "stream",
     "text": [
      "Model: \"sequential\"\n",
      "_________________________________________________________________\n",
      " Layer (type)                Output Shape              Param #   \n",
      "=================================================================\n",
      " conv2d (Conv2D)             (None, 32, 32, 64)        9472      \n",
      "                                                                 \n",
      " max_pooling2d (MaxPooling2D  (None, 15, 15, 64)       0         \n",
      " )                                                               \n",
      "                                                                 \n",
      " sequential_1 (Sequential)   (None, 15, 15, 64)        73856     \n",
      "                                                                 \n",
      " sequential_2 (Sequential)   (None, 15, 15, 64)        73856     \n",
      "                                                                 \n",
      " sequential_3 (Sequential)   (None, 15, 15, 64)        73856     \n",
      "                                                                 \n",
      " sequential_4 (Sequential)   (None, 15, 15, 64)        73856     \n",
      "                                                                 \n",
      " sequential_5 (Sequential)   (None, 15, 15, 64)        73856     \n",
      "                                                                 \n",
      " sequential_6 (Sequential)   (None, 15, 15, 64)        73856     \n",
      "                                                                 \n",
      " sequential_7 (Sequential)   (None, 15, 15, 64)        73856     \n",
      "                                                                 \n",
      " sequential_8 (Sequential)   (None, 15, 15, 64)        73856     \n",
      "                                                                 \n",
      " sequential_9 (Sequential)   (None, 15, 15, 64)        73856     \n",
      "                                                                 \n",
      " sequential_10 (Sequential)  (None, 15, 15, 64)        73856     \n",
      "                                                                 \n",
      " sequential_11 (Sequential)  (None, 15, 15, 64)        73856     \n",
      "                                                                 \n",
      " sequential_12 (Sequential)  (None, 15, 15, 64)        73856     \n",
      "                                                                 \n",
      " sequential_13 (Sequential)  (None, 15, 15, 64)        73856     \n",
      "                                                                 \n",
      " sequential_14 (Sequential)  (None, 15, 15, 64)        73856     \n",
      "                                                                 \n",
      " sequential_15 (Sequential)  (None, 15, 15, 64)        73856     \n",
      "                                                                 \n",
      " sequential_16 (Sequential)  (None, 15, 15, 64)        73856     \n",
      "                                                                 \n",
      " sequential_17 (Sequential)  (None, 15, 15, 64)        73856     \n",
      "                                                                 \n",
      " sequential_18 (Sequential)  (None, 15, 15, 64)        73856     \n",
      "                                                                 \n",
      " sequential_19 (Sequential)  (None, 15, 15, 64)        73856     \n",
      "                                                                 \n",
      " sequential_20 (Sequential)  (None, 15, 15, 64)        73856     \n",
      "                                                                 \n",
      " sequential_21 (Sequential)  (None, 15, 15, 64)        73856     \n",
      "                                                                 \n",
      " sequential_22 (Sequential)  (None, 15, 15, 64)        73856     \n",
      "                                                                 \n",
      " sequential_23 (Sequential)  (None, 15, 15, 64)        73856     \n",
      "                                                                 \n",
      " sequential_24 (Sequential)  (None, 15, 15, 64)        73856     \n",
      "                                                                 \n",
      " sequential_25 (Sequential)  (None, 15, 15, 64)        73856     \n",
      "                                                                 \n",
      " sequential_26 (Sequential)  (None, 15, 15, 64)        73856     \n",
      "                                                                 \n",
      " sequential_27 (Sequential)  (None, 15, 15, 64)        73856     \n",
      "                                                                 \n",
      " sequential_28 (Sequential)  (None, 15, 15, 64)        73856     \n",
      "                                                                 \n",
      " conv2d_57 (Conv2D)          (None, 15, 15, 10)        650       \n",
      "                                                                 \n",
      " flatten (Flatten)           (None, 2250)              0         \n",
      "                                                                 \n",
      " dense (Dense)               (None, 10)                22510     \n",
      "                                                                 \n",
      "=================================================================\n",
      "Total params: 2,100,600\n",
      "Trainable params: 2,100,600\n",
      "Non-trainable params: 0\n",
      "_________________________________________________________________\n"
     ]
    }
   ],
   "source": [
    "model.summary()"
   ]
  },
  {
   "cell_type": "code",
   "execution_count": null,
   "metadata": {
    "colab": {
     "base_uri": "https://localhost:8080/"
    },
    "id": "_mIC1vugn36e",
    "outputId": "f915de9b-d116-4e9a-85fd-30e5ddc5667b"
   },
   "outputs": [
    {
     "name": "stdout",
     "output_type": "stream",
     "text": [
      "Downloading data from https://www.cs.toronto.edu/~kriz/cifar-10-python.tar.gz\n",
      "170498071/170498071 [==============================] - 2s 0us/step\n"
     ]
    }
   ],
   "source": [
    "(x_train, y_train), (x_test, y_test) = cifar10.load_data()\n",
    "x_train = x_train.reshape(x_train.shape[0], 32, 32, 3)\n",
    "x_test = x_test.reshape(x_test.shape[0], 32, 32, 3)"
   ]
  },
  {
   "cell_type": "code",
   "execution_count": null,
   "metadata": {
    "id": "sub0lynPpJNc"
   },
   "outputs": [],
   "source": [
    "model.compile(loss='sparse_categorical_crossentropy', optimizer='adam', metrics=['accuracy'])"
   ]
  },
  {
   "cell_type": "code",
   "execution_count": null,
   "metadata": {
    "colab": {
     "base_uri": "https://localhost:8080/"
    },
    "id": "bDZi5dcGpNaI",
    "outputId": "d712f86c-7a93-403e-e0f1-c8cac0fc4366"
   },
   "outputs": [
    {
     "name": "stdout",
     "output_type": "stream",
     "text": [
      "Epoch 1/10\n",
      "1563/1563 [==============================] - 78s 31ms/step - loss: 2.3028 - accuracy: 0.0981\n",
      "Epoch 2/10\n",
      "1563/1563 [==============================] - 47s 30ms/step - loss: 2.3028 - accuracy: 0.0971\n",
      "Epoch 3/10\n",
      "1563/1563 [==============================] - 46s 30ms/step - loss: 2.3028 - accuracy: 0.0992\n",
      "Epoch 4/10\n",
      "1563/1563 [==============================] - 46s 30ms/step - loss: 2.3028 - accuracy: 0.0982\n",
      "Epoch 5/10\n",
      "1563/1563 [==============================] - 47s 30ms/step - loss: 2.3028 - accuracy: 0.0965\n",
      "Epoch 6/10\n",
      "1563/1563 [==============================] - 49s 31ms/step - loss: 2.3028 - accuracy: 0.0975\n",
      "Epoch 7/10\n",
      "1563/1563 [==============================] - 49s 32ms/step - loss: 2.3028 - accuracy: 0.0973\n",
      "Epoch 8/10\n",
      "1563/1563 [==============================] - 49s 31ms/step - loss: 2.3028 - accuracy: 0.0971\n",
      "Epoch 9/10\n",
      "1563/1563 [==============================] - 49s 31ms/step - loss: 2.3028 - accuracy: 0.0974\n",
      "Epoch 10/10\n",
      "1563/1563 [==============================] - 48s 31ms/step - loss: 2.3028 - accuracy: 0.0993\n"
     ]
    },
    {
     "data": {
      "text/plain": [
       "<keras.callbacks.History at 0x7f5e1b412ec0>"
      ]
     },
     "execution_count": 8,
     "metadata": {},
     "output_type": "execute_result"
    }
   ],
   "source": [
    "model.fit(x_train, y_train, epochs=10)"
   ]
  },
  {
   "cell_type": "code",
   "execution_count": null,
   "metadata": {
    "colab": {
     "base_uri": "https://localhost:8080/"
    },
    "id": "vTNVjiIJrXvJ",
    "outputId": "9d8c67cc-b8b9-4ab5-b116-2a60269a134b"
   },
   "outputs": [
    {
     "name": "stdout",
     "output_type": "stream",
     "text": [
      "10000/10000 [==============================] - 50s 5ms/step - loss: 2.3026 - accuracy: 0.1000\n"
     ]
    },
    {
     "data": {
      "text/plain": [
       "[2.3025684356689453, 0.10000000149011612]"
      ]
     },
     "execution_count": 9,
     "metadata": {},
     "output_type": "execute_result"
    }
   ],
   "source": [
    "model.evaluate(x_test, y_test, batch_size=1)"
   ]
  },
  {
   "cell_type": "code",
   "execution_count": null,
   "metadata": {
    "id": "82l0tkCfrciy"
   },
   "outputs": [],
   "source": []
  }
 ],
 "metadata": {
  "accelerator": "GPU",
  "colab": {
   "gpuType": "T4",
   "provenance": []
  },
  "kernelspec": {
   "display_name": "Python 3",
   "language": "python",
   "name": "python3"
  },
  "language_info": {
   "codemirror_mode": {
    "name": "ipython",
    "version": 3
   },
   "file_extension": ".py",
   "mimetype": "text/x-python",
   "name": "python",
   "nbconvert_exporter": "python",
   "pygments_lexer": "ipython3",
   "version": "3.8.10"
  }
 },
 "nbformat": 4,
 "nbformat_minor": 1
}
